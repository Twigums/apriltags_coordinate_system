{
 "cells": [
  {
   "cell_type": "code",
   "execution_count": null,
   "id": "ae12effe-5776-468b-bd45-3e30827912bc",
   "metadata": {},
   "outputs": [],
   "source": [
    "import os, cv2, sys, toml\n",
    "import numpy as np\n",
    "import matplotlib\n",
    "from matplotlib import pyplot as plt\n",
    "\n",
    "from opencv_functions import *\n",
    "from utility_functions import *\n",
    "from dobot_arm import *"
   ]
  },
  {
   "cell_type": "code",
   "execution_count": null,
   "id": "9caad2cf-9fbe-40ea-acdb-012b393aa899",
   "metadata": {},
   "outputs": [],
   "source": [
    "arm = DobotArm(log_level = 3)\n",
    "arm.connect()\n",
    "arm.enable_defaults()"
   ]
  },
  {
   "cell_type": "code",
   "execution_count": null,
   "id": "17d0cd95-7fc4-4dc6-91ec-e77d45d307af",
   "metadata": {},
   "outputs": [],
   "source": [
    "%matplotlib inline\n",
    "\n",
    "PATH_TO_CAMERA_CALIBRATION_FILE = \"./calibration/20250505-EMEET.npz\"\n",
    "PATH_TO_TEMPLATES = \"./templates\"\n",
    "\n",
    "cam = cv2.VideoCapture(0)\n",
    "fourcc = cv2.VideoWriter_fourcc('M', 'J', 'P', 'G')\n",
    "cam.set(cv2.CAP_PROP_FOURCC, fourcc)\n",
    "\n",
    "cam.set(cv2.CAP_PROP_FRAME_WIDTH, 1920)\n",
    "cam.set(cv2.CAP_PROP_FRAME_HEIGHT, 1080)\n",
    "\n",
    "camera_width = int(cam.get(cv2.CAP_PROP_FRAME_WIDTH))\n",
    "camera_height = int(cam.get(cv2.CAP_PROP_FRAME_HEIGHT))\n",
    "\n",
    "camera_matrix, new_camera_matrix, distortion_coefficients, resolution, focus = get_camera_calibration(PATH_TO_CAMERA_CALIBRATION_FILE)\n",
    "\n",
    "cam.set(cv2.CAP_PROP_AUTOFOCUS, 0)\n",
    "cam.set(cv2.CAP_PROP_FOCUS, float(530))\n",
    "\n",
    "sift, flann = initialize_detector()\n",
    "\n",
    "# load all template images as numpy arrays\n",
    "templates = []\n",
    "template_filenames = [f for f in os.listdir(PATH_TO_TEMPLATES) if f.endswith((\".png\",\n",
    "                                                                              \".jpg\",\n",
    "                                                                              \".jpeg\",\n",
    "                                                                              \".bmp\",\n",
    "                                                                              \".tiff\"))]\n",
    "\n",
    "for template_filename in template_filenames:\n",
    "    path_to_template = os.path.join(PATH_TO_TEMPLATES, template_filename)\n",
    "    image = cv2.imread(path_to_template)\n",
    "\n",
    "    if image is not None:\n",
    "        templates.append(image)\n",
    "\n",
    "    else:\n",
    "        print(f\"Failed to load template at: {path_to_template}.\")\n",
    "\n",
    "colors = [(255, 0, 0), (0, 255, 0), (0, 0, 255)]"
   ]
  },
  {
   "cell_type": "code",
   "execution_count": null,
   "id": "1e8563f6-d9d2-4c20-9eda-5e59ff6aa753",
   "metadata": {},
   "outputs": [],
   "source": [
    "ret, frame = cam.read()\n",
    "\n",
    "best_ious = []\n",
    "best_transformed_boxes = []\n",
    "best_thetas = []\n",
    "\n",
    "if ret:\n",
    "\n",
    "    # if we have multiple templates, probably zip it with different colors?\n",
    "    for i, template in enumerate(templates):\n",
    "        results, metrics = get_detection(sift, flann, template, frame)\n",
    "\n",
    "        if len(metrics[\"iou\"]) > 0:\n",
    "\n",
    "            # its slower than [-1], but that only works if we found a good iou early\n",
    "            idx_best = np.argmax(metrics[\"iou\"])\n",
    "            best_H = results[\"H\"][idx_best]\n",
    "            best_transformed_box = results[\"transformed_box\"][idx_best]\n",
    "            best_iou = metrics[\"iou\"][idx_best]\n",
    "\n",
    "            best_ious.append(best_iou)\n",
    "            best_transformed_boxes.append(best_transformed_box)\n",
    "\n",
    "            if best_transformed_box is not None:\n",
    "                draw_polygon(frame, best_transformed_box, color = colors[i])\n",
    "                theta = calculate_matrix_angle(best_H)\n",
    "                best_thetas.append(theta)\n",
    "\n",
    "                print(f\"Board: {template_filenames[i]}, IOU: {best_iou}, Angle: {theta}\")\n",
    "\n",
    "            else:\n",
    "                print(\"Failed to find object.\")\n",
    "\n",
    "        else:\n",
    "            print(\"Failed to find object.\")\n",
    "\n",
    "else:\n",
    "    print(\"No return.\")\n",
    "\n",
    "\n",
    "plt.imshow(frame)\n",
    "plt.scatter([1920 / 2], [1080 / 2])\n",
    "plt.show()"
   ]
  },
  {
   "cell_type": "code",
   "execution_count": null,
   "id": "9c210c31-40eb-48ac-9ee7-19859cd91e49",
   "metadata": {},
   "outputs": [],
   "source": [
    "cam.release()"
   ]
  },
  {
   "cell_type": "code",
   "execution_count": null,
   "id": "41f3324a-059b-467f-9730-60b19c67cec3",
   "metadata": {},
   "outputs": [],
   "source": [
    "PATH_TO_CALIBRATION_FILE = \"./calibration/20250505-EMEET.npz\"\n",
    "camera_matrix, new_camera_matrix, distortion_coefficients, resolution, focus = get_camera_calibration(PATH_TO_CALIBRATION_FILE)\n",
    "\n",
    "best_ious = np.array(best_ious)\n",
    "best_idx = np.argmax(best_ious)\n",
    "\n",
    "scale_x = 115 / (1920)\n",
    "scale_y = 64 / (1080)\n",
    "\n",
    "object_center = np.mean(best_transformed_boxes[best_idx].reshape(4, 2), axis = 0)\n",
    "\n",
    "print(camera_matrix[0, 2], camera_matrix[1, 2])\n",
    "center = np.array([1920 / 2, 1080 / 2])\n",
    "# center = camera_matrix[:2, 2].ravel()\n",
    "\n",
    "print(object_center, center)\n",
    "\n",
    "dx_mm, dy_mm = np.array([scale_x, scale_y]) * (object_center - center)\n",
    "print(dx_mm, dy_mm)"
   ]
  },
  {
   "cell_type": "code",
   "execution_count": null,
   "id": "c4f02ec8-e28b-4214-ae26-ae5752936861",
   "metadata": {},
   "outputs": [],
   "source": [
    "# dx_mm, dy_mm = 23.89440155029297, -19.82210922241211\n",
    "# theta = 108.61350011762714\n",
    "\n",
    "start_coords = [295.24, -213.2, -43, 25.11]\n",
    "offset = -35\n",
    "angle_offset = -best_thetas[best_idx]\n",
    "arm.movl(start_coords)\n",
    "\n",
    "if best_iou >= 0.9:\n",
    "    pass\n",
    "\n",
    "arm.wait_for_movement_completion()\n",
    "arm.relmovl([dx_mm + offset, -dy_mm, 0, angle_offset])\n",
    "\n",
    "arm.wait_for_movement_completion()\n",
    "print(arm.get_coords())"
   ]
  },
  {
   "cell_type": "code",
   "execution_count": null,
   "id": "466cdd4a-3fab-4f3d-a9e1-8f89b7298658",
   "metadata": {},
   "outputs": [],
   "source": [
    "arm.open_gripper(\"limit\", 100)\n",
    "arm.relmovl([0, 0, -47.5, 0])\n",
    "arm.close_gripper(\"limit\", 25)\n",
    "arm.relmovl([0, 0, 30, 0])\n",
    "arm.movl(start_coords)\n",
    "arm.relmovl([0, 0, -30, 0])\n",
    "arm.open_gripper(\"limit\", 100)\n",
    "arm.movl(start_coords)"
   ]
  },
  {
   "cell_type": "code",
   "execution_count": null,
   "id": "ac52bc24-5a42-4b53-8f79-72a54fb9435b",
   "metadata": {},
   "outputs": [],
   "source": [
    "start_coords = [295.24, -213.2, -43, 25.11]\n",
    "arm.movl(start_coords)"
   ]
  }
 ],
 "metadata": {
  "kernelspec": {
   "display_name": "Python 3 (ipykernel)",
   "language": "python",
   "name": "python3"
  },
  "language_info": {
   "codemirror_mode": {
    "name": "ipython",
    "version": 3
   },
   "file_extension": ".py",
   "mimetype": "text/x-python",
   "name": "python",
   "nbconvert_exporter": "python",
   "pygments_lexer": "ipython3",
   "version": "3.13.3"
  }
 },
 "nbformat": 4,
 "nbformat_minor": 5
}
